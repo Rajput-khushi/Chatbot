{
 "cells": [
  {
   "cell_type": "code",
   "execution_count": 1,
   "id": "2c887a20",
   "metadata": {},
   "outputs": [
    {
     "name": "stdout",
     "output_type": "stream",
     "text": [
      "✅ app.py successfully created!\n"
     ]
    }
   ],
   "source": [
    "app_code ='''\n",
    "import streamlit as st\n",
    "import requests\n",
    "import json\n",
    "import os\n",
    "from together import Together\n",
    "\n",
    "# 🔑 Replace with your real keys\n",
    "os.environ[\"together_api_key\"] = \"tgp_v1_c_UNf4h7H7quWIVmcFBf0qsw0zPBEMZyqb6_FGHpuIY\"\n",
    "SERPER_API_KEY = \"dd8e3bb205e2e1cc635cbebb598e09438e99fa40\"\n",
    "\n",
    "client = Together()\n",
    "\n",
    "def search_web(query):\n",
    "    url = \"https://google.serper.dev/search\"\n",
    "    headers = {\n",
    "        \"X-API-KEY\": SERPER_API_KEY,\n",
    "        \"Content-Type\": \"application/json\"\n",
    "    }\n",
    "    data = {\"q\": query}\n",
    "    response = requests.post(url, headers=headers, json=data)\n",
    "    return response.json()\n",
    "\n",
    "def extract_snippets(results):\n",
    "    snippets = \"\"\n",
    "    for item in results.get(\"organic\", [])[:3]:\n",
    "        snippets += f\"🔹 {item['title']}\\\\n{item['snippet']}\\\\n{item['link']}\\\\n\\\\n\"\n",
    "    return snippets.strip()\n",
    "\n",
    "def smart_chat_with_search(user_query, expert=\"You are a helpful assistant.\"):\n",
    "    search_data = search_web(user_query)\n",
    "    search_text = extract_snippets(search_data)\n",
    "    context = expert + f\"\\\\n\\\\nUse the following real-time search results to answer the question:\\\\n\\\\n{search_text}\"\n",
    "\n",
    "    messages = [\n",
    "        {\"role\": \"system\", \"content\": context},\n",
    "        {\"role\": \"user\", \"content\": user_query}\n",
    "    ]\n",
    "\n",
    "    response = client.chat.completions.create(\n",
    "        model=\"meta-llama/Llama-3.3-70B-Instruct-Turbo-Free\",\n",
    "        messages=messages,\n",
    "        stream=True\n",
    "    )\n",
    "\n",
    "    for chunk in response:\n",
    "        delta = chunk.choices[0].delta\n",
    "        if delta and delta.content:\n",
    "            yield delta.content\n",
    "\n",
    "# 🌐 Streamlit UI\n",
    "st.title(\"📡 Real-Time LLM Chatbot with Serper API\")\n",
    "query = st.text_input(\"Ask your question\")\n",
    "context = st.text_area(\"Expert Prompt\", \"You are a helpful assistant.\")\n",
    "\n",
    "if st.button(\"Ask\"):\n",
    "    if query.strip():\n",
    "        with st.spinner(\"Thinking...\"):\n",
    "            response_box = st.empty()\n",
    "            full_text = \"\"\n",
    "            for token in smart_chat_with_search(query, context):\n",
    "                full_text += token\n",
    "                response_box.markdown(full_text)\n",
    "\n",
    "\n",
    "with open(\"app.py\", \"w\", encoding=\"utf-8\") as f:\n",
    "    f.write(app_code)'''\n",
    "\n",
    "print(\"✅ app.py successfully created!\")"
   ]
  },
  {
   "cell_type": "code",
   "execution_count": 2,
   "id": "3a434162",
   "metadata": {},
   "outputs": [
    {
     "name": "stdout",
     "output_type": "stream",
     "text": [
      "True\n"
     ]
    }
   ],
   "source": [
    "import os\n",
    "print(\"app.py\" in os.listdir())"
   ]
  },
  {
   "cell_type": "code",
   "execution_count": null,
   "id": "db400734",
   "metadata": {},
   "outputs": [],
   "source": []
  }
 ],
 "metadata": {
  "kernelspec": {
   "display_name": "Python 3 (ipykernel)",
   "language": "python",
   "name": "python3"
  },
  "language_info": {
   "codemirror_mode": {
    "name": "ipython",
    "version": 3
   },
   "file_extension": ".py",
   "mimetype": "text/x-python",
   "name": "python",
   "nbconvert_exporter": "python",
   "pygments_lexer": "ipython3",
   "version": "3.11.5"
  }
 },
 "nbformat": 4,
 "nbformat_minor": 5
}
